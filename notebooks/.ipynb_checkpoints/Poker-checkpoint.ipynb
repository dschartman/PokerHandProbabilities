{
 "cells": [
  {
   "cell_type": "code",
   "execution_count": null,
   "id": "51071321-270c-4f2e-8d67-903d66b4c29f",
   "metadata": {},
   "outputs": [],
   "source": [
    "from itertools import combinations, permutations, product\n",
    "from math import comb, pow\n",
    "\n",
    "%config Completer.use_jedi = False"
   ]
  },
  {
   "cell_type": "code",
   "execution_count": null,
   "id": "750846d5-5424-4568-a5e8-74444f81a20c",
   "metadata": {},
   "outputs": [],
   "source": [
    "SUITS = [\"s\", \"c\", \"h\", \"d\"]\n",
    "RANKS = [\"2\", \"3\", \"4\", \"5\", \"6\", \"7\", \"8\", \"9\", \"10\", \"11\", \"12\", \"13\", \"14\"]\n",
    "POSSIBLE_HANDS = comb(52,5)\n",
    "DECK = [p for p in list(product(RANKS, SUITS))]"
   ]
  },
  {
   "cell_type": "markdown",
   "id": "f6344d79-7959-44bf-859d-f4ef208ff27a",
   "metadata": {},
   "source": [
    "# Probabilities\n",
    "\n",
    "https://brilliant.org/wiki/math-of-poker/"
   ]
  },
  {
   "cell_type": "markdown",
   "id": "6413836b-f5f5-4abb-889d-ab2d923eec26",
   "metadata": {},
   "source": [
    "## High Card"
   ]
  },
  {
   "cell_type": "code",
   "execution_count": null,
   "id": "8819d6d3-eb19-4748-9aec-be5fc276b7bd",
   "metadata": {},
   "outputs": [],
   "source": [
    "ranks = comb(13,5) - 10\n",
    "suits = pow(comb(4,1),5) - 4\n",
    "\n",
    "total = ranks*suits\n",
    "\n",
    "\"{:.4%}\".format(total/POSSIBLE_HANDS)"
   ]
  },
  {
   "cell_type": "markdown",
   "id": "ec9ad4b6-e6b4-4e6a-bdf4-61e0c3b22c6c",
   "metadata": {},
   "source": [
    "## Pair"
   ]
  },
  {
   "cell_type": "code",
   "execution_count": null,
   "id": "7d1dc9e4-0f97-4f2b-87a1-e2636241b873",
   "metadata": {},
   "outputs": [],
   "source": [
    "ranks = comb(13,1)\n",
    "suits = comb(4,2)\n",
    "\n",
    "remaining_ranks = comb(12, 3)\n",
    "remaining_suits = pow(comb(4,1),3)\n",
    "\n",
    "total = ranks*suits*remaining_ranks*remaining_suits\n",
    "\n",
    "\"{:.4%}\".format(total/POSSIBLE_HANDS)"
   ]
  },
  {
   "cell_type": "markdown",
   "id": "8b4d27f5-2500-4685-bd53-25ee452acd76",
   "metadata": {},
   "source": [
    "## Two Pair"
   ]
  },
  {
   "cell_type": "code",
   "execution_count": null,
   "id": "2e723eb4-6960-4cc5-8b94-aeb0b6c7f31e",
   "metadata": {},
   "outputs": [],
   "source": [
    "ranks = comb(13,2)\n",
    "suits = pow(comb(4,2), 2)\n",
    "\n",
    "remaining_ranks = comb(11, 1)\n",
    "remaining_suits = comb(4,1)\n",
    "\n",
    "total = ranks*suits*remaining_ranks*remaining_suits\n",
    "\n",
    "\"{:.4%}\".format(total/POSSIBLE_HANDS)"
   ]
  },
  {
   "cell_type": "markdown",
   "id": "45a2d3c6-37ba-497c-9b04-7261280f9460",
   "metadata": {},
   "source": [
    "## 3 of a kind"
   ]
  },
  {
   "cell_type": "code",
   "execution_count": null,
   "id": "cd2e8b0a-16cc-452a-bd5a-c80799c74fd4",
   "metadata": {},
   "outputs": [],
   "source": [
    "ranks = comb(13,1)\n",
    "suits = comb(4,3)\n",
    "\n",
    "remaining_ranks = comb(12, 2)\n",
    "remaining_suits = pow(comb(4,1), 2)\n",
    "\n",
    "total = ranks*suits*remaining_ranks*remaining_suits\n",
    "\n",
    "\"{:.4%}\".format(total/POSSIBLE_HANDS)"
   ]
  },
  {
   "cell_type": "markdown",
   "id": "c9433568-c6a9-40f8-859c-58a4fa71718d",
   "metadata": {},
   "source": [
    "## Straight"
   ]
  },
  {
   "cell_type": "code",
   "execution_count": null,
   "id": "fce481c0-758a-420f-9a9e-be38550b0d52",
   "metadata": {},
   "outputs": [],
   "source": [
    "ranks = 10\n",
    "suits = pow(comb(4,1), 5) - 4\n",
    "\n",
    "total = ranks*suits\n",
    "\n",
    "\"{:.4%}\".format(total/POSSIBLE_HANDS)"
   ]
  },
  {
   "cell_type": "markdown",
   "id": "3ea2ccc4-f56b-4308-9ca7-78a63caf1e28",
   "metadata": {},
   "source": [
    "## Flush"
   ]
  },
  {
   "cell_type": "code",
   "execution_count": null,
   "id": "d3043e37-fc54-49e3-b2b1-e16e8a4f5ab3",
   "metadata": {},
   "outputs": [],
   "source": [
    "ranks = comb(13,5) - 10\n",
    "suits = 4\n",
    "\n",
    "total = ranks*suits\n",
    "\n",
    "\"{:.4%}\".format(total/POSSIBLE_HANDS)"
   ]
  },
  {
   "cell_type": "markdown",
   "id": "1e35b05a-37a4-4316-aae8-c252330770b2",
   "metadata": {},
   "source": [
    "## Full House"
   ]
  },
  {
   "cell_type": "code",
   "execution_count": null,
   "id": "8c1f866d-54b9-4705-91bb-87858fc08680",
   "metadata": {},
   "outputs": [],
   "source": [
    "ranks = comb(13,1)\n",
    "suits = comb(4,3)\n",
    "\n",
    "remaining_ranks = comb(12, 1)\n",
    "remaining_suits = comb(4,2)\n",
    "\n",
    "total = ranks*suits*remaining_ranks*remaining_suits\n",
    "\n",
    "\"{:.4%}\".format(total/POSSIBLE_HANDS)"
   ]
  },
  {
   "cell_type": "markdown",
   "id": "c93d764d-a900-442e-86d1-8d41f4667bdb",
   "metadata": {},
   "source": [
    "## 4 of a kind"
   ]
  },
  {
   "cell_type": "code",
   "execution_count": null,
   "id": "cbd13c07-88ac-44c5-a057-feec48495ac2",
   "metadata": {},
   "outputs": [],
   "source": [
    "ranks = comb(13,1)\n",
    "suits = 4\n",
    "\n",
    "remaining_ranks = comb(12, 1)\n",
    "remaining_suits = pow(comb(4,1), 1)\n",
    "\n",
    "total = ranks*suits*remaining_ranks*remaining_suits\n",
    "\n",
    "\"{:.4%}\".format(total/POSSIBLE_HANDS)"
   ]
  },
  {
   "cell_type": "markdown",
   "id": "b7b75627-2597-4852-a7a9-750140f9170f",
   "metadata": {},
   "source": [
    "## Straight Flush"
   ]
  },
  {
   "cell_type": "code",
   "execution_count": null,
   "id": "8061d9a4-8608-4c9e-a442-bb469574b935",
   "metadata": {},
   "outputs": [],
   "source": [
    "ranks = 10\n",
    "suits = 4\n",
    "\n",
    "total = ranks*suits - 4\n",
    "\n",
    "\"{:.4%}\".format(total/POSSIBLE_HANDS)"
   ]
  },
  {
   "cell_type": "markdown",
   "id": "3eaeca0d-f6f3-42a2-bd15-f57b08520089",
   "metadata": {},
   "source": [
    "## Royal Flush"
   ]
  },
  {
   "cell_type": "code",
   "execution_count": null,
   "id": "ab8a3e85-e9d0-497f-b515-f4a6d5e0a746",
   "metadata": {},
   "outputs": [],
   "source": [
    "\"{:.4%}\".format(4/POSSIBLE_HANDS)"
   ]
  },
  {
   "cell_type": "markdown",
   "id": "84e75866-632f-49ec-8906-f949cbbbe6ef",
   "metadata": {},
   "source": [
    "# Scoring"
   ]
  },
  {
   "cell_type": "markdown",
   "id": "e9eaf91b-6704-4eda-b173-fc7f21fa56cb",
   "metadata": {
    "tags": []
   },
   "source": [
    "## High Card"
   ]
  },
  {
   "cell_type": "code",
   "execution_count": null,
   "id": "e3cccaec-0845-45a1-baa9-fc9d286b2fea",
   "metadata": {},
   "outputs": [],
   "source": []
  }
 ],
 "metadata": {
  "kernelspec": {
   "display_name": "Python [conda env:.conda-poker_kata]",
   "language": "python",
   "name": "conda-env-.conda-poker_kata-py"
  },
  "language_info": {
   "codemirror_mode": {
    "name": "ipython",
    "version": 3
   },
   "file_extension": ".py",
   "mimetype": "text/x-python",
   "name": "python",
   "nbconvert_exporter": "python",
   "pygments_lexer": "ipython3",
   "version": "3.9.4"
  },
  "toc-autonumbering": false,
  "toc-showcode": false,
  "toc-showmarkdowntxt": false,
  "toc-showtags": false
 },
 "nbformat": 4,
 "nbformat_minor": 5
}
